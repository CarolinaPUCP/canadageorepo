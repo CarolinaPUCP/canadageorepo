{
 "cells": [
  {
   "cell_type": "code",
   "execution_count": null,
   "id": "ba8a3125",
   "metadata": {},
   "outputs": [],
   "source": [
    "# EJERCICIO 1\n",
    "\n",
    "import os\n",
    "\n",
    "\n",
    "import geopandas as gpd\n",
    "from  fiona import listlayers\n",
    "\n",
    "#mapa\n",
    "canadaMaps='https://github.com/CienciaDeDatosEspacial/canadageorepo/raw/main/maps/brazilMaps_5641.gpkg'\n",
    "\n",
    "#layers in maps\n",
    "listlayers(brazilMaps)"
   ]
  }
 ],
 "metadata": {
  "kernelspec": {
   "display_name": "Python 3 (ipykernel)",
   "language": "python",
   "name": "python3"
  },
  "language_info": {
   "codemirror_mode": {
    "name": "ipython",
    "version": 3
   },
   "file_extension": ".py",
   "mimetype": "text/x-python",
   "name": "python",
   "nbconvert_exporter": "python",
   "pygments_lexer": "ipython3",
   "version": "3.11.4"
  }
 },
 "nbformat": 4,
 "nbformat_minor": 5
}
